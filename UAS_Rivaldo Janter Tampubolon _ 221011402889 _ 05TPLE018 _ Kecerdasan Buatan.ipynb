{
 "cells": [
  {
   "cell_type": "code",
   "execution_count": 48,
   "id": "f560268e-4f23-458b-986b-f00f4a74c69f",
   "metadata": {},
   "outputs": [],
   "source": [
    "import numpy as np\n",
    "import skfuzzy as fuzz\n",
    "from skfuzzy import control as ctrl"
   ]
  },
  {
   "cell_type": "code",
   "execution_count": 49,
   "id": "44029fae-c2fb-461a-8b24-6f0dddd78fd4",
   "metadata": {},
   "outputs": [],
   "source": [
    "# Definisikan variabel input dan output\n",
    "kecepatan = ctrl.Antecedent(np.arange(0, 11, 1), 'kecepatan')\n",
    "keramahan = ctrl.Antecedent(np.arange(0, 11, 1), 'keramahan')\n",
    "kualitas = ctrl.Antecedent(np.arange(0, 11, 1), 'kualitas')\n",
    "kenyamanan = ctrl.Antecedent(np.arange(0, 11, 1), 'kenyamanan')"
   ]
  },
  {
   "cell_type": "code",
   "execution_count": 50,
   "id": "1aa43948-3266-4331-bfad-bbe6d6132065",
   "metadata": {},
   "outputs": [],
   "source": [
    "# Definisikan fungsi keanggotaan untuk kecepatan, keramahn, kualitas, dan kenya\n",
    "kecepatan['lambat'] = fuzz.trimf(kecepatan.universe, [0, 0, 5])\n",
    "kecepatan['sedang'] = fuzz.trimf(kecepatan.universe, [0, 5, 10])\n",
    "kecepatan['cepat'] = fuzz.trimf(kecepatan.universe, [5, 10, 10])\n",
    "\n",
    "# Definisikan fungsi keanggotaan untuk keramahan\n",
    "keramahan['tidak ramah'] = fuzz.trimf(keramahan.universe, [0, 0, 5])\n",
    "keramahan['cukup ramah'] = fuzz.trimf(keramahan.universe, [0, 5, 10])\n",
    "keramahan['sangat ramah'] = fuzz.trimf(keramahan.universe, [5, 10, 10])\n",
    "\n",
    "# Definisikan fungsi keanggotaan untuk kualitas\n",
    "kualitas['buruk'] = fuzz.trimf(kualitas.universe, [0, 0, 5])\n",
    "kualitas['cukup'] = fuzz.trimf(kualitas.universe, [0, 5, 10])\n",
    "kualitas['baik'] = fuzz.trimf(kualitas.universe, [5, 10, 10])\n",
    "\n",
    "# Definisikan fungsi keanggotaan untuk kenyamanan\n",
    "kenyamanan['tidak nyaman'] = fuzz.trimf(kenyamanan.universe, [0, 0, 5])\n",
    "kenyamanan['cukup nyaman'] = fuzz.trimf(kenyamanan.universe, [0, 5, 10])\n",
    "kenyamanan['sangat nyaman'] = fuzz.trimf(kenyamanan.universe, [5, 10, 10])\n",
    "\n",
    "# Definisikan output kebahagiaan\n",
    "kebahagiaan = ctrl.Consequent(np.arange(0, 11, 1), 'kebahagiaan')\n",
    "kebahagiaan['tidak bahagia'] = fuzz.trimf(kebahagiaan.universe, [0, 0, 5])\n",
    "kebahagiaan['cukup bahagia'] = fuzz.trimf(kebahagiaan.universe, [0, 5, 10])\n",
    "kebahagiaan['sangat bahagia'] = fuzz.trimf(kebahagiaan.universe, [5, 10, 10])"
   ]
  },
  {
   "cell_type": "code",
   "execution_count": 51,
   "id": "c389d4fa-5b44-478c-8062-480a0bb83ebb",
   "metadata": {},
   "outputs": [],
   "source": [
    "# Definisikan aturan fuzzy\n",
    "rules = [\n",
    "    ctrl.Rule(kecepatan['lambat'] | keramahan['tidak ramah'] | kualitas['buruk'] | kenyamanan['tidak nyaman'], kebahagiaan['tidak bahagia']),\n",
    "    ctrl.Rule(kecepatan['sedang'] & keramahan['cukup ramah'] & kualitas['cukup'] & kenyamanan['cukup nyaman'], kebahagiaan['cukup bahagia']),\n",
    "    ctrl.Rule(kecepatan['cepat'] & keramahan['sangat ramah'] & kualitas['baik'] & kenyamanan['sangat nyaman'], kebahagiaan['sangat bahagia']),\n",
    "]\n"
   ]
  },
  {
   "cell_type": "code",
   "execution_count": 52,
   "id": "68718d1a-2846-4446-804e-7aa025928458",
   "metadata": {},
   "outputs": [],
   "source": [
    "# Buat sistem kontrol fuzzy\n",
    "kebahagiaan_ctrl = ctrl.ControlSystem(rules)\n",
    "kebahagiaan_sim = ctrl.ControlSystemSimulation(kebahagiaan_ctrl)"
   ]
  },
  {
   "cell_type": "code",
   "execution_count": 53,
   "id": "72e9b046-87c7-46c1-9ba2-734f3e0345cc",
   "metadata": {},
   "outputs": [
    {
     "ename": "ValueError",
     "evalue": "All antecedents must have input values!",
     "output_type": "error",
     "traceback": [
      "\u001b[1;31m---------------------------------------------------------------------------\u001b[0m",
      "\u001b[1;31mValueError\u001b[0m                                Traceback (most recent call last)",
      "Cell \u001b[1;32mIn[53], line 7\u001b[0m\n\u001b[0;32m      5\u001b[0m kebahagiaan_sim\u001b[38;5;241m.\u001b[39minput[\u001b[38;5;124m'\u001b[39m\u001b[38;5;124mkenyamanan\u001b[39m\u001b[38;5;124m'\u001b[39m] \u001b[38;5;241m=\u001b[39m \u001b[38;5;241m9\u001b[39m  \n\u001b[0;32m      6\u001b[0m \u001b[38;5;66;03m# run \u001b[39;00m\n\u001b[1;32m----> 7\u001b[0m \u001b[43mkebahagiaan_sim\u001b[49m\u001b[38;5;241;43m.\u001b[39;49m\u001b[43mcompute\u001b[49m\u001b[43m(\u001b[49m\u001b[43m)\u001b[49m\n",
      "File \u001b[1;32mC:\\WinPython\\WPy64-31180\\python-3.11.8.amd64\\Lib\\site-packages\\skfuzzy\\control\\controlsystem.py:363\u001b[0m, in \u001b[0;36mControlSystemSimulation.compute\u001b[1;34m(self)\u001b[0m\n\u001b[0;32m    361\u001b[0m \u001b[38;5;28;01mfor\u001b[39;00m antecedent \u001b[38;5;129;01min\u001b[39;00m \u001b[38;5;28mself\u001b[39m\u001b[38;5;241m.\u001b[39mctrl\u001b[38;5;241m.\u001b[39mantecedents:\n\u001b[0;32m    362\u001b[0m     \u001b[38;5;28;01mif\u001b[39;00m antecedent\u001b[38;5;241m.\u001b[39minput[\u001b[38;5;28mself\u001b[39m] \u001b[38;5;129;01mis\u001b[39;00m \u001b[38;5;28;01mNone\u001b[39;00m:\n\u001b[1;32m--> 363\u001b[0m         \u001b[38;5;28;01mraise\u001b[39;00m \u001b[38;5;167;01mValueError\u001b[39;00m(\u001b[38;5;124m\"\u001b[39m\u001b[38;5;124mAll antecedents must have input values!\u001b[39m\u001b[38;5;124m\"\u001b[39m)\n\u001b[0;32m    364\u001b[0m     CrispValueCalculator(antecedent, \u001b[38;5;28mself\u001b[39m)\u001b[38;5;241m.\u001b[39mfuzz(antecedent\u001b[38;5;241m.\u001b[39minput[\u001b[38;5;28mself\u001b[39m])\n\u001b[0;32m    366\u001b[0m \u001b[38;5;66;03m# Calculate rules, taking inputs and accumulating outputs\u001b[39;00m\n",
      "\u001b[1;31mValueError\u001b[0m: All antecedents must have input values!"
     ]
    }
   ],
   "source": [
    "# Berikan nilai pada semua input\n",
    "kebahagiaan_sim.input['kecepatan'] = 8  \n",
    "kebahagiaan_sim.input['keramahan'] = 7  \n",
    "kebahagiaan_sim.input['kualitas'] = 7   \n",
    "kebahagiaan_sim.input['kenyamanan'] = 9  \n",
    "\n",
    "# run \n",
    "kebahagiaan_sim.compute()"
   ]
  },
  {
   "cell_type": "code",
   "execution_count": null,
   "id": "5ae41986-32ec-400e-b465-9f8cec45b3f5",
   "metadata": {},
   "outputs": [],
   "source": [
    "# Cetak hasil\n",
    "print(f\"Tingkat Kebahagiaan Pelanggan: {kebahagiaan_sim.output['kebahagiaan']:.2f}\")\n",
    "kebahagiaan.view(sim=kebahagiaan_sim)"
   ]
  }
 ],
 "metadata": {
  "kernelspec": {
   "display_name": "Python 3 (ipykernel)",
   "language": "python",
   "name": "python3"
  },
  "language_info": {
   "codemirror_mode": {
    "name": "ipython",
    "version": 3
   },
   "file_extension": ".py",
   "mimetype": "text/x-python",
   "name": "python",
   "nbconvert_exporter": "python",
   "pygments_lexer": "ipython3",
   "version": "3.11.8"
  }
 },
 "nbformat": 4,
 "nbformat_minor": 5
}
